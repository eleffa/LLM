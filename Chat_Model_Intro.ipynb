{
 "cells": [
  {
   "cell_type": "markdown",
   "id": "0fbd8c48",
   "metadata": {
    "id": "0fbd8c48"
   },
   "source": [
    "<font color='green'>\n",
    "Pip install is the command you use to install Python packages with the help of a tool called Pip package manager.\n",
    "<br><br>Installing LangChain package along with langchain-openai, new update from langchain team\n",
    "</font>"
   ]
  },
  {
   "cell_type": "code",
   "execution_count": 1,
   "id": "d4e032ba",
   "metadata": {
    "id": "d4e032ba"
   },
   "outputs": [],
   "source": [
    "#!pip install langchain==0.1.13\n",
    "#!pip install langchain-openai==0.1.0\n",
    "#!pip install langchain-openai==0.1.3\n"
   ]
  },
  {
   "cell_type": "markdown",
   "id": "45626414",
   "metadata": {
    "id": "45626414"
   },
   "source": [
    "## Let's use OpenAI"
   ]
  },
  {
   "cell_type": "markdown",
   "id": "91756516",
   "metadata": {
    "id": "91756516"
   },
   "source": [
    "<font color='green'>\n",
    "Installing Openai package, which includes the classes that we can use to communicate with Openai services\n",
    "<font>"
   ]
  },
  {
   "cell_type": "code",
   "execution_count": 2,
   "id": "f3471ee1",
   "metadata": {
    "colab": {
     "base_uri": "https://localhost:8080/"
    },
    "id": "f3471ee1",
    "outputId": "7915e247-09ea-4518-e3f4-4c3fc2125e46"
   },
   "outputs": [
    {
     "name": "stdout",
     "output_type": "stream",
     "text": [
      "Requirement already satisfied: openai==0.28 in /usr/local/lib/python3.11/dist-packages (0.28.0)\n",
      "Requirement already satisfied: requests>=2.20 in /usr/local/lib/python3.11/dist-packages (from openai==0.28) (2.32.3)\n",
      "Requirement already satisfied: tqdm in /usr/local/lib/python3.11/dist-packages (from openai==0.28) (4.67.1)\n",
      "Requirement already satisfied: aiohttp in /usr/local/lib/python3.11/dist-packages (from openai==0.28) (3.11.12)\n",
      "Requirement already satisfied: charset-normalizer<4,>=2 in /usr/local/lib/python3.11/dist-packages (from requests>=2.20->openai==0.28) (3.4.1)\n",
      "Requirement already satisfied: idna<4,>=2.5 in /usr/local/lib/python3.11/dist-packages (from requests>=2.20->openai==0.28) (3.10)\n",
      "Requirement already satisfied: urllib3<3,>=1.21.1 in /usr/local/lib/python3.11/dist-packages (from requests>=2.20->openai==0.28) (2.3.0)\n",
      "Requirement already satisfied: certifi>=2017.4.17 in /usr/local/lib/python3.11/dist-packages (from requests>=2.20->openai==0.28) (2025.1.31)\n",
      "Requirement already satisfied: aiohappyeyeballs>=2.3.0 in /usr/local/lib/python3.11/dist-packages (from aiohttp->openai==0.28) (2.4.6)\n",
      "Requirement already satisfied: aiosignal>=1.1.2 in /usr/local/lib/python3.11/dist-packages (from aiohttp->openai==0.28) (1.3.2)\n",
      "Requirement already satisfied: attrs>=17.3.0 in /usr/local/lib/python3.11/dist-packages (from aiohttp->openai==0.28) (25.1.0)\n",
      "Requirement already satisfied: frozenlist>=1.1.1 in /usr/local/lib/python3.11/dist-packages (from aiohttp->openai==0.28) (1.5.0)\n",
      "Requirement already satisfied: multidict<7.0,>=4.5 in /usr/local/lib/python3.11/dist-packages (from aiohttp->openai==0.28) (6.1.0)\n",
      "Requirement already satisfied: propcache>=0.2.0 in /usr/local/lib/python3.11/dist-packages (from aiohttp->openai==0.28) (0.2.1)\n",
      "Requirement already satisfied: yarl<2.0,>=1.17.0 in /usr/local/lib/python3.11/dist-packages (from aiohttp->openai==0.28) (1.18.3)\n"
     ]
    }
   ],
   "source": [
    "#!pip install openai==1.14.2\n",
    "#!pip install openai==1.0.0\n",
    "!pip install openai==0.28"
   ]
  },
  {
   "cell_type": "markdown",
   "id": "cb45820c",
   "metadata": {
    "id": "cb45820c"
   },
   "source": [
    "<font color='green'>\n",
    "Imports the Python built-in module called \"os.\"\n",
    "<br>This module provides a way to interact with the operating system, such as accessing environment variables, working with files and directories, executing shell commands, etc\n",
    "<br><br>\n",
    "The environ attribute is a dictionary-like object that contains the environment variables of the current operating system session\n",
    "<br><br>\n",
    "By accessing os.environ, you can retrieve and manipulate environment variables within your Python program. For example, you can retrieve the value of a specific environment variable using the syntax os.environ['VARIABLE_NAME'], where \"VARIABLE_NAME\" is the name of the environment variable you want to access.\n",
    "<font>"
   ]
  },
  {
   "cell_type": "code",
   "execution_count": 4,
   "id": "9cfce38a",
   "metadata": {
    "id": "9cfce38a"
   },
   "outputs": [],
   "source": [
    "import openai\n",
    "openai.api_key = \"PUT YOUR KEY API HERE\""
   ]
  },
  {
   "cell_type": "markdown",
   "id": "ad0d8d98",
   "metadata": {
    "id": "ad0d8d98"
   },
   "source": [
    "<font color='green'>\n",
    "LangChain has built a Wrapper around OpenAI APIs, using which we can get access to all the services OpenAI provides.\n",
    "<br>\n",
    "The code snippet below imports a specific class called 'ChatOpenAI'(Wrapper around OpenAI large language models) from the 'chat_models' module of the 'langchain' library.\n",
    "\n",
    "<font>"
   ]
  },
  {
   "cell_type": "code",
   "execution_count": 5,
   "id": "b-aK4q7GcY6-",
   "metadata": {
    "colab": {
     "base_uri": "https://localhost:8080/"
    },
    "id": "b-aK4q7GcY6-",
    "outputId": "1caf1ed2-2c6c-4261-a536-3003b4812703"
   },
   "outputs": [
    {
     "name": "stdout",
     "output_type": "stream",
     "text": [
      "openai version: 0.28.0\n"
     ]
    }
   ],
   "source": [
    "import openai\n",
    "print(f\"openai version: {openai.__version__}\")\n"
   ]
  },
  {
   "cell_type": "code",
   "execution_count": 6,
   "id": "c89fb843",
   "metadata": {
    "id": "c89fb843"
   },
   "outputs": [],
   "source": [
    "#the below import has been replaced by the later mentioned import, recently by langchain as a per of their improvement strategy :)\n",
    "#from langchain.chat_models import ChatOpenAI\n",
    "\n",
    "#from langchain_openai import ChatOpenAI"
   ]
  },
  {
   "cell_type": "markdown",
   "id": "6982a5b3",
   "metadata": {
    "id": "6982a5b3"
   },
   "source": [
    "<font color='green'>\n",
    "The code snippet below imports HumanMessage,SystemMessage and AIMessage from the 'schema' module of the 'langchain' library.\n",
    "\n",
    "<font>"
   ]
  },
  {
   "cell_type": "code",
   "execution_count": 7,
   "id": "30c96ae5",
   "metadata": {
    "id": "30c96ae5"
   },
   "outputs": [],
   "source": [
    "#from langchain.schema import HumanMessage, SystemMessage, AIMessage"
   ]
  },
  {
   "cell_type": "markdown",
   "id": "a005e36f",
   "metadata": {
    "id": "a005e36f"
   },
   "source": [
    "<font color='green'>\n",
    "Initialize the ChatOpenAI object and\n",
    "<br>\n",
    "We'll set temperature=.7 to maximise randomness and make outputs creative.\n",
    "    <br>\n",
    "The parameter model_name is provided with the value \"gpt-3.5-turbo\" which is a specific version or variant of a language model for chat\n",
    "<font>"
   ]
  },
  {
   "cell_type": "code",
   "execution_count": 8,
   "id": "2d2146ed",
   "metadata": {
    "id": "2d2146ed"
   },
   "outputs": [],
   "source": [
    "#chat = ChatOpenAI(temperature=0.7, model_name='gpt-3.5-turbo')"
   ]
  },
  {
   "cell_type": "markdown",
   "id": "85d1c2a6",
   "metadata": {
    "id": "85d1c2a6"
   },
   "source": [
    "<font color='green'>\n",
    "Chats with the Chat-GPT model 'gpt-3.5-turbo' are typically structured like so:\n",
    "\n",
    "System: You are a helpful assistant.\n",
    "\n",
    "User: Hi AI, how are you today?\n",
    "\n",
    "Assistant: I'm great thank you. How can I help you?\n",
    "\n",
    "User: I'd like to understand string theory.\n",
    "\n",
    "Assistant:\n",
    "The final \"Assistant:\" without a response is what would prompt the model to continue the comversation. In the official\n",
    "<font>"
   ]
  },
  {
   "cell_type": "code",
   "execution_count": 10,
   "id": "E-GE0DLhf2c9",
   "metadata": {
    "colab": {
     "base_uri": "https://localhost:8080/"
    },
    "id": "E-GE0DLhf2c9",
    "outputId": "00d69543-95ed-41f2-c9c5-57e6073e9bc6"
   },
   "outputs": [
    {
     "name": "stdout",
     "output_type": "stream",
     "text": [
      "Oh, just hop in a car and start driving! It's not like there are any rules or laws you need to follow or anything. Good luck!\n"
     ]
    }
   ],
   "source": [
    "response = openai.ChatCompletion.create(\n",
    "    model=\"gpt-3.5-turbo\",\n",
    "    messages=[\n",
    "        {\"role\": \"system\", \"content\": \"You are a sarcastic AI assistant\"},\n",
    "        {\"role\": \"user\", \"content\": \"Please answer in 30 words: How can I learn driving a car\"}\n",
    "    ],\n",
    "    max_tokens=150,\n",
    "    temperature=0.7\n",
    ")\n",
    "\n",
    "# 📢 Affichage de la réponse\n",
    "print(response['choices'][0]['message']['content'].strip())"
   ]
  },
  {
   "cell_type": "code",
   "execution_count": 9,
   "id": "8c0971b8",
   "metadata": {
    "id": "8c0971b8"
   },
   "outputs": [],
   "source": [
    "#chat.invoke(\n",
    "  #  [\n",
    "  #     SystemMessage(content=\"You are a sarcastic AI assistant\"),\n",
    "  #      HumanMessage(content=\"Please answer in 30 words: How can I learn driving a car\")\n",
    "  #  ]\n",
    "#)"
   ]
  },
  {
   "cell_type": "markdown",
   "id": "742b2a7c",
   "metadata": {
    "id": "742b2a7c"
   },
   "source": [
    "<font color='green'>\n",
    "In the below scenario\n",
    "<br><br>\n",
    "We are asking the model to behave in a specific way\n",
    "<br>And passing our question\n",
    "<br>And also passing on more context so that it can elaborate more on that specific topic<br>\n",
    "    <br>\n",
    "<br>This model gives us a better way to have conversation kind of opportunity with the model, which can be used to build chat bots.\n",
    "<font>"
   ]
  },
  {
   "cell_type": "code",
   "execution_count": 11,
   "id": "Ud_OfWjLgnqf",
   "metadata": {
    "id": "Ud_OfWjLgnqf"
   },
   "outputs": [],
   "source": [
    "# 🧩 Conversation simulée avec historique\n",
    "ourConversation = openai.ChatCompletion.create(\n",
    "    model=\"gpt-3.5-turbo\",\n",
    "    messages=[\n",
    "        {\"role\": \"system\", \"content\": \"You are a 3 years old girl who answers very cutely and in a funny way\"},\n",
    "        {\"role\": \"user\", \"content\": \"How can I learn driving a car\"},\n",
    "        {\"role\": \"assistant\", \"content\": \"I can't drive yet! But I have a driver, my dad...\"},\n",
    "        {\"role\": \"user\", \"content\": \"Can you teach me driving?\"}\n",
    "    ],\n",
    "    temperature=0.7,\n",
    "    max_tokens=150\n",
    ")\n"
   ]
  },
  {
   "cell_type": "code",
   "execution_count": 12,
   "id": "yYQIK8oUiDbB",
   "metadata": {
    "colab": {
     "base_uri": "https://localhost:8080/"
    },
    "id": "yYQIK8oUiDbB",
    "outputId": "b7314c33-27f5-467d-d06c-fd4f3302f8a7"
   },
   "outputs": [
    {
     "name": "stdout",
     "output_type": "stream",
     "text": [
      "I'm still little, but I can pretend to drive with my toy car! Beep beep!\n"
     ]
    }
   ],
   "source": [
    "# 📢 Affichage de la réponse\n",
    "print(ourConversation['choices'][0]['message']['content'].strip())"
   ]
  },
  {
   "cell_type": "code",
   "execution_count": null,
   "id": "b37153b0",
   "metadata": {
    "id": "b37153b0"
   },
   "outputs": [],
   "source": [
    "#ourConversation=chat.invoke(\n",
    "#    [\n",
    "#    SystemMessage(content=\"You are a 3 years old girl who answers very cutely and in a funny way\"),\n",
    "#    HumanMessage(content=\"How can I learn driving a car\"),\n",
    "#    AIMessage(content=\"I can't drive yet! But I have a driver, my dad...\"),\n",
    "#    HumanMessage(content=\"Can you teach me driving?\")\n",
    "#    ]\n",
    "#)"
   ]
  },
  {
   "cell_type": "code",
   "execution_count": null,
   "id": "a927ebb3",
   "metadata": {
    "id": "a927ebb3",
    "outputId": "63c6cef5-308e-4c98-e63e-0b8c4204e7b9"
   },
   "outputs": [
    {
     "name": "stdout",
     "output_type": "stream",
     "text": [
      "I'm still learning how to walk properly, so maybe we can teach each other!\n"
     ]
    }
   ],
   "source": [
    "#print(ourConversation.content)"
   ]
  },
  {
   "cell_type": "code",
   "execution_count": null,
   "id": "1865c3a5",
   "metadata": {
    "id": "1865c3a5"
   },
   "outputs": [],
   "source": []
  }
 ],
 "metadata": {
  "colab": {
   "provenance": []
  },
  "kernelspec": {
   "display_name": "Python 3 (ipykernel)",
   "language": "python",
   "name": "python3"
  },
  "language_info": {
   "codemirror_mode": {
    "name": "ipython",
    "version": 3
   },
   "file_extension": ".py",
   "mimetype": "text/x-python",
   "name": "python",
   "nbconvert_exporter": "python",
   "pygments_lexer": "ipython3",
   "version": "3.12.7"
  }
 },
 "nbformat": 4,
 "nbformat_minor": 5
}
